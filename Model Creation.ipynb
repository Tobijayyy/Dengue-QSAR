{
 "cells": [
  {
   "cell_type": "code",
   "execution_count": 1,
   "id": "311611d3-3a46-49c0-b894-74161ff284d2",
   "metadata": {},
   "outputs": [],
   "source": [
    "import pandas as pd\n",
    "import numpy as np"
   ]
  },
  {
   "cell_type": "markdown",
   "id": "76e7717d-43be-40f1-b54d-b34bc79af5cd",
   "metadata": {},
   "source": [
    "### Removing Duplicates"
   ]
  },
  {
   "cell_type": "code",
   "execution_count": 2,
   "id": "390f8dba-abdc-4665-bbf3-d652368650ce",
   "metadata": {},
   "outputs": [],
   "source": [
    "df = pd.read_csv('descriptors_output_with_pIC50.csv')"
   ]
  },
  {
   "cell_type": "code",
   "execution_count": 3,
   "id": "7a8b829d-dc17-46f5-833c-7394b06bb72d",
   "metadata": {
    "scrolled": true
   },
   "outputs": [
    {
     "data": {
      "text/plain": [
       "(1237, 883)"
      ]
     },
     "execution_count": 3,
     "metadata": {},
     "output_type": "execute_result"
    }
   ],
   "source": [
    "df.shape"
   ]
  },
  {
   "cell_type": "code",
   "execution_count": 4,
   "id": "99986f56-1c71-45a2-9350-b2e18e7f03bd",
   "metadata": {},
   "outputs": [
    {
     "data": {
      "text/plain": [
       "(array([], dtype=int64), array([], dtype=int64))"
      ]
     },
     "execution_count": 4,
     "metadata": {},
     "output_type": "execute_result"
    }
   ],
   "source": [
    "np.where(df.isna())"
   ]
  },
  {
   "cell_type": "code",
   "execution_count": 5,
   "id": "34744a9a-a0c4-4560-9222-f03947f80cee",
   "metadata": {},
   "outputs": [
    {
     "data": {
      "text/plain": [
       "11"
      ]
     },
     "execution_count": 5,
     "metadata": {},
     "output_type": "execute_result"
    }
   ],
   "source": [
    "df.duplicated().sum()"
   ]
  },
  {
   "cell_type": "code",
   "execution_count": 6,
   "id": "e7ef1a0b-452d-4ab7-b45b-2c7394554431",
   "metadata": {
    "scrolled": true
   },
   "outputs": [
    {
     "data": {
      "text/plain": [
       "(array([1050, 1054, 1055, 1062, 1063, 1144, 1179, 1187, 1198, 1202, 1212],\n",
       "       dtype=int64),)"
      ]
     },
     "execution_count": 6,
     "metadata": {},
     "output_type": "execute_result"
    }
   ],
   "source": [
    "np.where(df.duplicated())"
   ]
  },
  {
   "cell_type": "code",
   "execution_count": 7,
   "id": "8a08e05a-621a-433f-8051-3202d478e62a",
   "metadata": {},
   "outputs": [],
   "source": [
    "df.drop_duplicates(keep='first', inplace=True)"
   ]
  },
  {
   "cell_type": "code",
   "execution_count": 8,
   "id": "bb9139cc-569d-4e29-8c82-fcf25bf07471",
   "metadata": {
    "scrolled": true
   },
   "outputs": [
    {
     "data": {
      "text/plain": [
       "0"
      ]
     },
     "execution_count": 8,
     "metadata": {},
     "output_type": "execute_result"
    }
   ],
   "source": [
    "df.duplicated().sum()"
   ]
  },
  {
   "cell_type": "code",
   "execution_count": 9,
   "id": "c6fe2d2c-e6c8-4c49-8765-126a0bc11ab3",
   "metadata": {},
   "outputs": [],
   "source": [
    "names = df.select_dtypes(include='object')"
   ]
  },
  {
   "cell_type": "code",
   "execution_count": 10,
   "id": "f0cb89ae-ec37-49ff-bdca-0981227373d0",
   "metadata": {},
   "outputs": [],
   "source": [
    "df.drop('Name', axis=1, inplace=True)"
   ]
  },
  {
   "cell_type": "code",
   "execution_count": 11,
   "id": "20ba3101-d4c3-4e14-b96a-4d1e13540758",
   "metadata": {},
   "outputs": [
    {
     "data": {
      "text/plain": [
       "(1226, 882)"
      ]
     },
     "execution_count": 11,
     "metadata": {},
     "output_type": "execute_result"
    }
   ],
   "source": [
    "df.shape"
   ]
  },
  {
   "cell_type": "markdown",
   "id": "e9f152ac-ec33-4c95-89a7-461d80042df1",
   "metadata": {
    "scrolled": true
   },
   "source": [
    "### Splitting the dataset"
   ]
  },
  {
   "cell_type": "code",
   "execution_count": 12,
   "id": "19e687b9-14f0-433f-bd36-485c6b2a5011",
   "metadata": {},
   "outputs": [],
   "source": [
    "x = df.drop('pIC50', axis=1)\n",
    "y = df.pIC50"
   ]
  },
  {
   "cell_type": "markdown",
   "id": "77d86c9a-49cc-4aa3-b1cc-b631deac820f",
   "metadata": {
    "jp-MarkdownHeadingCollapsed": true
   },
   "source": [
    "### Removing features with little variance"
   ]
  },
  {
   "cell_type": "code",
   "execution_count": null,
   "id": "b6df4b0b-e4a2-496b-b5df-9942e2301ae8",
   "metadata": {},
   "outputs": [],
   "source": [
    "from sklearn.feature_selection import VarianceThreshold"
   ]
  },
  {
   "cell_type": "code",
   "execution_count": null,
   "id": "b0aa6d64-a52a-4086-8741-48d28d604e52",
   "metadata": {},
   "outputs": [],
   "source": [
    "variances = x.var()\n",
    "selected_features = variances[variances > 0.1].index"
   ]
  },
  {
   "cell_type": "code",
   "execution_count": null,
   "id": "5b48cd43-9305-4b36-9973-0eeafc36bd19",
   "metadata": {},
   "outputs": [],
   "source": [
    "x = x[selected_features]"
   ]
  },
  {
   "cell_type": "code",
   "execution_count": null,
   "id": "da9223b8-65be-485d-aa43-9232260aa2a3",
   "metadata": {
    "scrolled": true
   },
   "outputs": [],
   "source": [
    "x"
   ]
  },
  {
   "cell_type": "code",
   "execution_count": null,
   "id": "9ba966d3-bff4-44d7-a635-68d9d186975c",
   "metadata": {},
   "outputs": [],
   "source": [
    "x.shape"
   ]
  },
  {
   "cell_type": "markdown",
   "id": "1328b54d-be56-465c-8b78-a6dd0a4d4d04",
   "metadata": {
    "jp-MarkdownHeadingCollapsed": true
   },
   "source": [
    "### Removing highly correlated features"
   ]
  },
  {
   "cell_type": "code",
   "execution_count": null,
   "id": "b971e43e-cb82-48d7-a582-db168638f7cb",
   "metadata": {},
   "outputs": [],
   "source": [
    "x_df = pd.DataFrame(x)\n",
    "corr_matrix = x_df.corr().abs()\n",
    "upper = corr_matrix.where(np.triu(np.ones(corr_matrix.shape), k=1).astype(bool))\n",
    "to_drop = [column for column in upper.columns if any(upper[column] > 0.95)]\n",
    "x_df = x_df.drop(columns=to_drop)\n",
    "x = x_df.to_numpy()"
   ]
  },
  {
   "cell_type": "code",
   "execution_count": null,
   "id": "72c83d77-b000-4a5a-bc8d-067fe8db953b",
   "metadata": {},
   "outputs": [],
   "source": [
    "x.shape"
   ]
  },
  {
   "cell_type": "markdown",
   "id": "d67181cc-117d-4b63-a923-03fa7005b13b",
   "metadata": {
    "jp-MarkdownHeadingCollapsed": true
   },
   "source": [
    "### PCA"
   ]
  },
  {
   "cell_type": "code",
   "execution_count": 24,
   "id": "420ce719-58ef-4223-8a74-a8ddad6eddac",
   "metadata": {},
   "outputs": [
    {
     "data": {
      "text/plain": [
       "(1226, 2)"
      ]
     },
     "execution_count": 24,
     "metadata": {},
     "output_type": "execute_result"
    }
   ],
   "source": [
    "from sklearn.decomposition import PCA\n",
    "pca = PCA(n_components=2)\n",
    "x_pca = pca.fit_transform(x)\n",
    "x_pca.shape"
   ]
  },
  {
   "cell_type": "markdown",
   "id": "c6a142e6-948c-40d5-927b-1bcdc2b31607",
   "metadata": {},
   "source": [
    "##### Or"
   ]
  },
  {
   "cell_type": "code",
   "execution_count": null,
   "id": "3744bb9d-3c07-44ca-bf96-25f1266c849c",
   "metadata": {},
   "outputs": [],
   "source": [
    "from sklearn.decomposition import KernelPCA\n",
    "kpca = KernelPCA(n_components=2, kernel='rbf', gamma=0.1)\n",
    "x_kpca = kpca.fit_transform(x)\n",
    "x_kpca.shape"
   ]
  },
  {
   "cell_type": "markdown",
   "id": "92fde498-c9bc-46a5-8c42-b5d83adc00c8",
   "metadata": {},
   "source": [
    "### Creating the model"
   ]
  },
  {
   "cell_type": "code",
   "execution_count": 13,
   "id": "16916f7a-b1d1-4cf1-92ea-1bbbb02d9ba7",
   "metadata": {},
   "outputs": [],
   "source": [
    "from sklearn.model_selection import train_test_split"
   ]
  },
  {
   "cell_type": "code",
   "execution_count": 14,
   "id": "b13b874d-c741-4b8a-acdc-748cd2227170",
   "metadata": {},
   "outputs": [],
   "source": [
    "x_train, x_test, y_train, y_test = train_test_split(x, y, test_size=0.2, random_state=0)"
   ]
  },
  {
   "cell_type": "markdown",
   "id": "a8454f9d-f422-4555-9404-7f9e117903c1",
   "metadata": {},
   "source": [
    "### Transforming X with PolynomialFeatures"
   ]
  },
  {
   "cell_type": "code",
   "execution_count": 42,
   "id": "c1241d21-e35f-42ae-b1c9-e6315643242c",
   "metadata": {},
   "outputs": [],
   "source": [
    "from sklearn.preprocessing import PolynomialFeatures\n",
    "pr = PolynomialFeatures(degree=2)\n",
    "x_train_pr = pr.fit_transform(x_train)\n",
    "x_test_pr = pr.transform(x_test)"
   ]
  },
  {
   "cell_type": "markdown",
   "id": "aa80c426-b9a7-4d68-9eec-dbdddc70df75",
   "metadata": {},
   "source": [
    "### Using LazyPredict to get the r2 scores of various models at a glance"
   ]
  },
  {
   "cell_type": "code",
   "execution_count": null,
   "id": "16146171-c643-43f4-85a3-35b47cc1d266",
   "metadata": {},
   "outputs": [],
   "source": [
    "from lazypredict.Supervised import LazyRegressor\n",
    "lzr = LazyRegressor()"
   ]
  },
  {
   "cell_type": "code",
   "execution_count": null,
   "id": "ea346782-168b-4698-aac4-17a6d4a83c53",
   "metadata": {},
   "outputs": [],
   "source": [
    "models, predictions = lzr.fit(x_train, x_test, y_train, y_test)"
   ]
  },
  {
   "cell_type": "code",
   "execution_count": null,
   "id": "44d2babe-e48f-49cf-af0c-4a121dfe9ef4",
   "metadata": {},
   "outputs": [],
   "source": [
    "top5 = models.sort_values(by='R-Squared', ascending=False).head()"
   ]
  },
  {
   "cell_type": "code",
   "execution_count": null,
   "id": "44593de0-302f-4520-9889-48947471f0e0",
   "metadata": {},
   "outputs": [],
   "source": [
    "top5"
   ]
  },
  {
   "cell_type": "markdown",
   "id": "8ea202bc-a450-4172-ac14-051d6b1fdc88",
   "metadata": {},
   "source": [
    "### Model Initialization"
   ]
  },
  {
   "cell_type": "markdown",
   "id": "e281f25b-9157-4184-8a0e-543dd014c57e",
   "metadata": {},
   "source": [
    "#### Random Forest Regressor"
   ]
  },
  {
   "cell_type": "code",
   "execution_count": 15,
   "id": "963619f9-8d91-495a-86d0-3ca7251d318a",
   "metadata": {},
   "outputs": [],
   "source": [
    "from sklearn.ensemble import RandomForestRegressor"
   ]
  },
  {
   "cell_type": "code",
   "execution_count": 17,
   "id": "835194af-a537-4604-958c-46666e263f65",
   "metadata": {},
   "outputs": [
    {
     "data": {
      "text/plain": [
       "0.4520739420292207"
      ]
     },
     "execution_count": 17,
     "metadata": {},
     "output_type": "execute_result"
    }
   ],
   "source": [
    "rfr = RandomForestRegressor()\n",
    "rfr.fit(x_train, y_train)\n",
    "rfr.score(x_test, y_test)"
   ]
  },
  {
   "cell_type": "code",
   "execution_count": 18,
   "id": "112caac2-312b-472c-bc21-f430ee90bd77",
   "metadata": {},
   "outputs": [],
   "source": [
    "y_pred = rfr.predict(x_test)"
   ]
  },
  {
   "cell_type": "code",
   "execution_count": 19,
   "id": "0bb5a5c8-e943-4508-ac49-2df77f077545",
   "metadata": {},
   "outputs": [
    {
     "data": {
      "text/plain": [
       "0.4520739420292207"
      ]
     },
     "execution_count": 19,
     "metadata": {},
     "output_type": "execute_result"
    }
   ],
   "source": [
    "rfr.score(x_test, y_test)"
   ]
  },
  {
   "cell_type": "markdown",
   "id": "7029070d-d8b8-4cfa-a92f-75b240326bf2",
   "metadata": {
    "jp-MarkdownHeadingCollapsed": true
   },
   "source": [
    "#### RFE"
   ]
  },
  {
   "cell_type": "code",
   "execution_count": null,
   "id": "5451b109-fa28-4a77-adcc-867256538843",
   "metadata": {},
   "outputs": [],
   "source": [
    "from sklearn.feature_selection  import RFE"
   ]
  },
  {
   "cell_type": "code",
   "execution_count": null,
   "id": "5cedda14-be11-42ad-b993-b480c1bb5984",
   "metadata": {},
   "outputs": [],
   "source": [
    "rfe = RFE(rfr, n_features_to_select=10)\n",
    "rfe.fit(x_train, y_train)"
   ]
  },
  {
   "cell_type": "code",
   "execution_count": null,
   "id": "bd39fc6a-a4ab-4d0e-9b38-ee9b172f36bb",
   "metadata": {},
   "outputs": [],
   "source": [
    "x_train_rfe = selector.transform(x_train)\n",
    "x_test_rfe = selector.transform(x_test)"
   ]
  },
  {
   "cell_type": "code",
   "execution_count": null,
   "id": "ea5c246b-998a-4413-9048-b51df462ad14",
   "metadata": {},
   "outputs": [],
   "source": [
    "rfr.fit(x_train_rfe, y_train)\n",
    "rfr.score(x_test_rfe, y_test)"
   ]
  },
  {
   "cell_type": "markdown",
   "id": "ad235fa9-d5f1-4f42-a521-c3dd96bc808f",
   "metadata": {},
   "source": [
    "#### LGBM"
   ]
  },
  {
   "cell_type": "code",
   "execution_count": null,
   "id": "89965993-f8d2-410f-8827-84a5db1c08ea",
   "metadata": {},
   "outputs": [],
   "source": [
    "import lightgbm as lgb"
   ]
  },
  {
   "cell_type": "code",
   "execution_count": null,
   "id": "ad707f56-7e99-4288-a1ee-1f0ea7c13d5d",
   "metadata": {},
   "outputs": [],
   "source": [
    "train_data = lgb.Dataset(x_train, label=y_train)\n",
    "test_data = lgb.Dataset(x_test, label=y_test, reference=train_data)"
   ]
  },
  {
   "cell_type": "code",
   "execution_count": null,
   "id": "abc8951c-b373-4e4b-acf4-9e5aa18bede8",
   "metadata": {},
   "outputs": [],
   "source": [
    "params = {\n",
    "    'boosting_type': 'gbdt',\n",
    "    'objective': 'regression',\n",
    "    'metric': 'rmse',\n",
    "    'num_leaves': 50,\n",
    "    'learning_rate': 0.1,\n",
    "    'feature_fraction': 0.9,\n",
    "    'bagging_fraction': 0.8,\n",
    "    'bagging_freq': 10,\n",
    "    'verbose': 0\n",
    "}"
   ]
  },
  {
   "cell_type": "code",
   "execution_count": null,
   "id": "0bc1e413-4a03-4409-9823-1450c93942f8",
   "metadata": {},
   "outputs": [],
   "source": [
    "gbm = lgb.train(\n",
    "    params, \n",
    "    train_data,\n",
    "    valid_sets = [test_data],\n",
    "    num_boost_round = 1000\n",
    ")"
   ]
  },
  {
   "cell_type": "code",
   "execution_count": null,
   "id": "a563a148-6c21-4e6d-b859-a6ea5e664752",
   "metadata": {},
   "outputs": [],
   "source": [
    "y_pred = gbm.predict(x_test, num_iteration=gbm.best_iteration)"
   ]
  },
  {
   "cell_type": "code",
   "execution_count": null,
   "id": "c11979c6-392a-454b-9cd7-839ff7bf952a",
   "metadata": {},
   "outputs": [],
   "source": [
    "from sklearn.metrics import r2_score"
   ]
  },
  {
   "cell_type": "code",
   "execution_count": null,
   "id": "c36e868b-3ccd-4185-be65-2eed38e9b491",
   "metadata": {},
   "outputs": [],
   "source": [
    "r2_score(y_test, y_pred)"
   ]
  },
  {
   "cell_type": "markdown",
   "id": "830dab93-c525-492b-968f-e39294aad2a3",
   "metadata": {},
   "source": [
    "### Model performance visualisation"
   ]
  },
  {
   "cell_type": "code",
   "execution_count": null,
   "id": "d53a70e9-9b3f-4d4a-91b4-d35606391f09",
   "metadata": {},
   "outputs": [],
   "source": [
    "import seaborn as sns"
   ]
  },
  {
   "cell_type": "code",
   "execution_count": null,
   "id": "9b9fb633-a4f0-46e3-bfdb-9c8fe9637fca",
   "metadata": {},
   "outputs": [],
   "source": [
    "ax = sns.kdeplot(y_test)\n",
    "sns.kdeplot(y_pred, color='orange');"
   ]
  },
  {
   "cell_type": "markdown",
   "id": "77e8708f-0244-4e8f-aa77-8313d4a6de52",
   "metadata": {},
   "source": [
    "### Cross validation"
   ]
  },
  {
   "cell_type": "code",
   "execution_count": null,
   "id": "ba3ad623-93da-49ab-9baa-175abbdedd7d",
   "metadata": {},
   "outputs": [],
   "source": [
    "from sklearn.model_selection import cross_val_score"
   ]
  },
  {
   "cell_type": "code",
   "execution_count": null,
   "id": "ee7bbb16-0570-45dc-9335-ac6f6db195cf",
   "metadata": {},
   "outputs": [],
   "source": [
    "cross_val_score(rfr, x_test, y_test, cv=4, scoring='r2').mean()"
   ]
  },
  {
   "cell_type": "markdown",
   "id": "7fc1ed72-e3f4-4ca1-b04b-5c28166045c4",
   "metadata": {},
   "source": [
    "### Testing Streamlit"
   ]
  },
  {
   "cell_type": "code",
   "execution_count": null,
   "id": "344da46f-bd3e-4854-8734-21eb970ea6f4",
   "metadata": {},
   "outputs": [],
   "source": [
    "!pip install --upgrade streamlit altair"
   ]
  },
  {
   "cell_type": "code",
   "execution_count": 26,
   "id": "9e33acef-669d-46cf-8e9a-2c5a1653e705",
   "metadata": {},
   "outputs": [],
   "source": [
    "import joblib"
   ]
  },
  {
   "cell_type": "code",
   "execution_count": 27,
   "id": "1a46d6df-ac8a-4984-8500-f47843a4aa3d",
   "metadata": {},
   "outputs": [
    {
     "data": {
      "text/plain": [
       "['rfr_model.pkl']"
      ]
     },
     "execution_count": 27,
     "metadata": {},
     "output_type": "execute_result"
    }
   ],
   "source": [
    "joblib.dump(rfr, 'rfr_model.pkl')"
   ]
  },
  {
   "cell_type": "code",
   "execution_count": 28,
   "id": "124e64a7-b783-45a3-a5f6-7a3cb1ba6814",
   "metadata": {},
   "outputs": [],
   "source": [
    "model = joblib.load('rfr_model.pkl')"
   ]
  },
  {
   "cell_type": "code",
   "execution_count": 29,
   "id": "49448f13-7558-49c0-bd8a-c118b59dd83e",
   "metadata": {},
   "outputs": [
    {
     "data": {
      "text/html": [
       "<style>#sk-container-id-1 {color: black;}#sk-container-id-1 pre{padding: 0;}#sk-container-id-1 div.sk-toggleable {background-color: white;}#sk-container-id-1 label.sk-toggleable__label {cursor: pointer;display: block;width: 100%;margin-bottom: 0;padding: 0.3em;box-sizing: border-box;text-align: center;}#sk-container-id-1 label.sk-toggleable__label-arrow:before {content: \"▸\";float: left;margin-right: 0.25em;color: #696969;}#sk-container-id-1 label.sk-toggleable__label-arrow:hover:before {color: black;}#sk-container-id-1 div.sk-estimator:hover label.sk-toggleable__label-arrow:before {color: black;}#sk-container-id-1 div.sk-toggleable__content {max-height: 0;max-width: 0;overflow: hidden;text-align: left;background-color: #f0f8ff;}#sk-container-id-1 div.sk-toggleable__content pre {margin: 0.2em;color: black;border-radius: 0.25em;background-color: #f0f8ff;}#sk-container-id-1 input.sk-toggleable__control:checked~div.sk-toggleable__content {max-height: 200px;max-width: 100%;overflow: auto;}#sk-container-id-1 input.sk-toggleable__control:checked~label.sk-toggleable__label-arrow:before {content: \"▾\";}#sk-container-id-1 div.sk-estimator input.sk-toggleable__control:checked~label.sk-toggleable__label {background-color: #d4ebff;}#sk-container-id-1 div.sk-label input.sk-toggleable__control:checked~label.sk-toggleable__label {background-color: #d4ebff;}#sk-container-id-1 input.sk-hidden--visually {border: 0;clip: rect(1px 1px 1px 1px);clip: rect(1px, 1px, 1px, 1px);height: 1px;margin: -1px;overflow: hidden;padding: 0;position: absolute;width: 1px;}#sk-container-id-1 div.sk-estimator {font-family: monospace;background-color: #f0f8ff;border: 1px dotted black;border-radius: 0.25em;box-sizing: border-box;margin-bottom: 0.5em;}#sk-container-id-1 div.sk-estimator:hover {background-color: #d4ebff;}#sk-container-id-1 div.sk-parallel-item::after {content: \"\";width: 100%;border-bottom: 1px solid gray;flex-grow: 1;}#sk-container-id-1 div.sk-label:hover label.sk-toggleable__label {background-color: #d4ebff;}#sk-container-id-1 div.sk-serial::before {content: \"\";position: absolute;border-left: 1px solid gray;box-sizing: border-box;top: 0;bottom: 0;left: 50%;z-index: 0;}#sk-container-id-1 div.sk-serial {display: flex;flex-direction: column;align-items: center;background-color: white;padding-right: 0.2em;padding-left: 0.2em;position: relative;}#sk-container-id-1 div.sk-item {position: relative;z-index: 1;}#sk-container-id-1 div.sk-parallel {display: flex;align-items: stretch;justify-content: center;background-color: white;position: relative;}#sk-container-id-1 div.sk-item::before, #sk-container-id-1 div.sk-parallel-item::before {content: \"\";position: absolute;border-left: 1px solid gray;box-sizing: border-box;top: 0;bottom: 0;left: 50%;z-index: -1;}#sk-container-id-1 div.sk-parallel-item {display: flex;flex-direction: column;z-index: 1;position: relative;background-color: white;}#sk-container-id-1 div.sk-parallel-item:first-child::after {align-self: flex-end;width: 50%;}#sk-container-id-1 div.sk-parallel-item:last-child::after {align-self: flex-start;width: 50%;}#sk-container-id-1 div.sk-parallel-item:only-child::after {width: 0;}#sk-container-id-1 div.sk-dashed-wrapped {border: 1px dashed gray;margin: 0 0.4em 0.5em 0.4em;box-sizing: border-box;padding-bottom: 0.4em;background-color: white;}#sk-container-id-1 div.sk-label label {font-family: monospace;font-weight: bold;display: inline-block;line-height: 1.2em;}#sk-container-id-1 div.sk-label-container {text-align: center;}#sk-container-id-1 div.sk-container {/* jupyter's `normalize.less` sets `[hidden] { display: none; }` but bootstrap.min.css set `[hidden] { display: none !important; }` so we also need the `!important` here to be able to override the default hidden behavior on the sphinx rendered scikit-learn.org. See: https://github.com/scikit-learn/scikit-learn/issues/21755 */display: inline-block !important;position: relative;}#sk-container-id-1 div.sk-text-repr-fallback {display: none;}</style><div id=\"sk-container-id-1\" class=\"sk-top-container\"><div class=\"sk-text-repr-fallback\"><pre>RandomForestRegressor()</pre><b>In a Jupyter environment, please rerun this cell to show the HTML representation or trust the notebook. <br />On GitHub, the HTML representation is unable to render, please try loading this page with nbviewer.org.</b></div><div class=\"sk-container\" hidden><div class=\"sk-item\"><div class=\"sk-estimator sk-toggleable\"><input class=\"sk-toggleable__control sk-hidden--visually\" id=\"sk-estimator-id-1\" type=\"checkbox\" checked><label for=\"sk-estimator-id-1\" class=\"sk-toggleable__label sk-toggleable__label-arrow\">RandomForestRegressor</label><div class=\"sk-toggleable__content\"><pre>RandomForestRegressor()</pre></div></div></div></div></div>"
      ],
      "text/plain": [
       "RandomForestRegressor()"
      ]
     },
     "execution_count": 29,
     "metadata": {},
     "output_type": "execute_result"
    }
   ],
   "source": [
    "model"
   ]
  },
  {
   "cell_type": "code",
   "execution_count": null,
   "id": "9bf38b2e-7eb8-4451-a809-3e287fc7294d",
   "metadata": {},
   "outputs": [],
   "source": [
    "!pip uninstall altair\n",
    "!pip install altair==4.0.0"
   ]
  },
  {
   "cell_type": "code",
   "execution_count": 34,
   "id": "d0823268-742a-447e-bb9b-e0523ee381bd",
   "metadata": {},
   "outputs": [
    {
     "ename": "ModuleNotFoundError",
     "evalue": "No module named 'altair.vegalite.v4'",
     "output_type": "error",
     "traceback": [
      "\u001b[1;31m---------------------------------------------------------------------------\u001b[0m",
      "\u001b[1;31mModuleNotFoundError\u001b[0m                       Traceback (most recent call last)",
      "Cell \u001b[1;32mIn[34], line 1\u001b[0m\n\u001b[1;32m----> 1\u001b[0m \u001b[38;5;28;01mimport\u001b[39;00m \u001b[38;5;21;01mstreamlit\u001b[39;00m \u001b[38;5;28;01mas\u001b[39;00m \u001b[38;5;21;01mst\u001b[39;00m\n\u001b[0;32m      2\u001b[0m \u001b[38;5;28;01mimport\u001b[39;00m \u001b[38;5;21;01mpandas\u001b[39;00m \u001b[38;5;28;01mas\u001b[39;00m \u001b[38;5;21;01mpd\u001b[39;00m\n\u001b[0;32m      3\u001b[0m \u001b[38;5;28;01mimport\u001b[39;00m \u001b[38;5;21;01mjoblib\u001b[39;00m\n",
      "File \u001b[1;32m~\\AppData\\Local\\Programs\\Python\\Python39\\lib\\site-packages\\streamlit\\__init__.py:70\u001b[0m\n\u001b[0;32m     68\u001b[0m \u001b[38;5;28;01mfrom\u001b[39;00m \u001b[38;5;21;01mstreamlit\u001b[39;00m \u001b[38;5;28;01mimport\u001b[39;00m source_util \u001b[38;5;28;01mas\u001b[39;00m _source_util\n\u001b[0;32m     69\u001b[0m \u001b[38;5;28;01mfrom\u001b[39;00m \u001b[38;5;21;01mstreamlit\u001b[39;00m \u001b[38;5;28;01mimport\u001b[39;00m string_util \u001b[38;5;28;01mas\u001b[39;00m _string_util\n\u001b[1;32m---> 70\u001b[0m \u001b[38;5;28;01mfrom\u001b[39;00m \u001b[38;5;21;01mstreamlit\u001b[39;00m\u001b[38;5;21;01m.\u001b[39;00m\u001b[38;5;21;01mdelta_generator\u001b[39;00m \u001b[38;5;28;01mimport\u001b[39;00m DeltaGenerator \u001b[38;5;28;01mas\u001b[39;00m _DeltaGenerator\n\u001b[0;32m     71\u001b[0m \u001b[38;5;28;01mfrom\u001b[39;00m \u001b[38;5;21;01mstreamlit\u001b[39;00m\u001b[38;5;21;01m.\u001b[39;00m\u001b[38;5;21;01mruntime\u001b[39;00m\u001b[38;5;21;01m.\u001b[39;00m\u001b[38;5;21;01mscriptrunner\u001b[39;00m \u001b[38;5;28;01mimport\u001b[39;00m (\n\u001b[0;32m     72\u001b[0m     add_script_run_ctx \u001b[38;5;28;01mas\u001b[39;00m _add_script_run_ctx,\n\u001b[0;32m     73\u001b[0m     get_script_run_ctx \u001b[38;5;28;01mas\u001b[39;00m _get_script_run_ctx,\n\u001b[1;32m   (...)\u001b[0m\n\u001b[0;32m     76\u001b[0m     RerunData \u001b[38;5;28;01mas\u001b[39;00m _RerunData,\n\u001b[0;32m     77\u001b[0m )\n\u001b[0;32m     78\u001b[0m \u001b[38;5;28;01mfrom\u001b[39;00m \u001b[38;5;21;01mstreamlit\u001b[39;00m\u001b[38;5;21;01m.\u001b[39;00m\u001b[38;5;21;01merrors\u001b[39;00m \u001b[38;5;28;01mimport\u001b[39;00m StreamlitAPIException\n",
      "File \u001b[1;32m~\\AppData\\Local\\Programs\\Python\\Python39\\lib\\site-packages\\streamlit\\delta_generator.py:90\u001b[0m\n\u001b[0;32m     87\u001b[0m \u001b[38;5;66;03m# DataFrame elements come in two flavors: \"Legacy\" and \"Arrow\".\u001b[39;00m\n\u001b[0;32m     88\u001b[0m \u001b[38;5;66;03m# We select between them with the DataFrameElementSelectorMixin.\u001b[39;00m\n\u001b[0;32m     89\u001b[0m \u001b[38;5;28;01mfrom\u001b[39;00m \u001b[38;5;21;01mstreamlit\u001b[39;00m\u001b[38;5;21;01m.\u001b[39;00m\u001b[38;5;21;01melements\u001b[39;00m\u001b[38;5;21;01m.\u001b[39;00m\u001b[38;5;21;01marrow\u001b[39;00m \u001b[38;5;28;01mimport\u001b[39;00m ArrowMixin\n\u001b[1;32m---> 90\u001b[0m \u001b[38;5;28;01mfrom\u001b[39;00m \u001b[38;5;21;01mstreamlit\u001b[39;00m\u001b[38;5;21;01m.\u001b[39;00m\u001b[38;5;21;01melements\u001b[39;00m\u001b[38;5;21;01m.\u001b[39;00m\u001b[38;5;21;01marrow_altair\u001b[39;00m \u001b[38;5;28;01mimport\u001b[39;00m ArrowAltairMixin\n\u001b[0;32m     91\u001b[0m \u001b[38;5;28;01mfrom\u001b[39;00m \u001b[38;5;21;01mstreamlit\u001b[39;00m\u001b[38;5;21;01m.\u001b[39;00m\u001b[38;5;21;01melements\u001b[39;00m\u001b[38;5;21;01m.\u001b[39;00m\u001b[38;5;21;01marrow_vega_lite\u001b[39;00m \u001b[38;5;28;01mimport\u001b[39;00m ArrowVegaLiteMixin\n\u001b[0;32m     92\u001b[0m \u001b[38;5;28;01mfrom\u001b[39;00m \u001b[38;5;21;01mstreamlit\u001b[39;00m\u001b[38;5;21;01m.\u001b[39;00m\u001b[38;5;21;01melements\u001b[39;00m\u001b[38;5;21;01m.\u001b[39;00m\u001b[38;5;21;01mlegacy_data_frame\u001b[39;00m \u001b[38;5;28;01mimport\u001b[39;00m LegacyDataFrameMixin\n",
      "File \u001b[1;32m~\\AppData\\Local\\Programs\\Python\\Python39\\lib\\site-packages\\streamlit\\elements\\arrow_altair.py:35\u001b[0m\n\u001b[0;32m     33\u001b[0m \u001b[38;5;28;01mimport\u001b[39;00m \u001b[38;5;21;01maltair\u001b[39;00m \u001b[38;5;28;01mas\u001b[39;00m \u001b[38;5;21;01malt\u001b[39;00m\n\u001b[0;32m     34\u001b[0m \u001b[38;5;28;01mimport\u001b[39;00m \u001b[38;5;21;01mpandas\u001b[39;00m \u001b[38;5;28;01mas\u001b[39;00m \u001b[38;5;21;01mpd\u001b[39;00m\n\u001b[1;32m---> 35\u001b[0m \u001b[38;5;28;01mfrom\u001b[39;00m \u001b[38;5;21;01maltair\u001b[39;00m\u001b[38;5;21;01m.\u001b[39;00m\u001b[38;5;21;01mvegalite\u001b[39;00m\u001b[38;5;21;01m.\u001b[39;00m\u001b[38;5;21;01mv4\u001b[39;00m\u001b[38;5;21;01m.\u001b[39;00m\u001b[38;5;21;01mapi\u001b[39;00m \u001b[38;5;28;01mimport\u001b[39;00m Chart\n\u001b[0;32m     36\u001b[0m \u001b[38;5;28;01mfrom\u001b[39;00m \u001b[38;5;21;01mpandas\u001b[39;00m\u001b[38;5;21;01m.\u001b[39;00m\u001b[38;5;21;01mapi\u001b[39;00m\u001b[38;5;21;01m.\u001b[39;00m\u001b[38;5;21;01mtypes\u001b[39;00m \u001b[38;5;28;01mimport\u001b[39;00m infer_dtype\n\u001b[0;32m     38\u001b[0m \u001b[38;5;28;01mfrom\u001b[39;00m \u001b[38;5;21;01mstreamlit\u001b[39;00m\u001b[38;5;21;01m.\u001b[39;00m\u001b[38;5;21;01merrors\u001b[39;00m \u001b[38;5;28;01mimport\u001b[39;00m StreamlitAPIException\n",
      "\u001b[1;31mModuleNotFoundError\u001b[0m: No module named 'altair.vegalite.v4'"
     ]
    }
   ],
   "source": [
    "import streamlit as st\n",
    "import pandas as pd\n",
    "import joblib\n",
    "import subprocess\n",
    "import os\n",
    "\n",
    "# Load the model\n",
    "model = joblib.load('rfr_model.pkl')\n",
    "\n",
    "# Function to calculate descriptors using PaDEL\n",
    "def calculate_descriptors(smiles):\n",
    "    # Write SMILES to a temporary file\n",
    "    with open('molecule.smi', 'w') as f:\n",
    "        f.write(smiles)\n",
    "    \n",
    "    # Define output file\n",
    "    output_file = 'descriptors_output.csv'\n",
    "    \n",
    "    # Run PaDEL-Descriptor\n",
    "    subprocess.run([\n",
    "        'java', '-jar', 'Drug Design/padel/PaDEL-Descriptor/PaDEL-Descriptor.jar',\n",
    "        '-descriptortypes', 'Drug Design/padel/PaDEL-Descriptor/descriptors.xml',\n",
    "        '-dir', '.', '-file', output_file,\n",
    "        '-2d', '-removesalt', '-standardizenitro'\n",
    "    ], check=True)\n",
    "\n",
    "    # Read the descriptors from the output file\n",
    "    descriptors = pd.read_csv(output_file)\n",
    "    \n",
    "    # Clean up temporary files\n",
    "    os.remove('molecule.smi')\n",
    "    os.remove(output_file)\n",
    "    \n",
    "    return descriptors"
   ]
  },
  {
   "cell_type": "code",
   "execution_count": null,
   "id": "51abab64-aa97-4d12-9dca-818f15b4603f",
   "metadata": {},
   "outputs": [],
   "source": [
    "def main():\n",
    "    st.title(\"Molecular Bioactivity Prediction App\")\n",
    "\n",
    "    st.write(\"\"\"\n",
    "    This app predicts the **bioactivity** of molecules!\n",
    "    \"\"\")\n",
    "\n",
    "    # Sidebar for user input\n",
    "    st.sidebar.header(\"User Input\")\n",
    "    smiles_input = st.sidebar.text_area(\"Enter SMILES notation of the molecule\", \"\")\n",
    "\n",
    "    if st.sidebar.button(\"Predict\"):\n",
    "        if smiles_input:\n",
    "            try:\n",
    "                input_df = calculate_descriptors(smiles_input)\n",
    "\n",
    "                # Display the input features\n",
    "                st.subheader('Molecule Features')\n",
    "                st.write(input_df)\n",
    "\n",
    "                # Make prediction\n",
    "                prediction = model.predict(input_df)\n",
    "                st.subheader('Prediction')\n",
    "                st.write('Bioactivity: ', prediction[0])\n",
    "            except Exception as e:\n",
    "                st.error(f\"Error processing molecule: {e}\")\n",
    "        else:\n",
    "            st.error(\"Please enter the SMILES notation of a molecule\")\n",
    "\n",
    "if __name__ == \"__main__\":\n",
    "    main()"
   ]
  }
 ],
 "metadata": {
  "kernelspec": {
   "display_name": "Python 3 (ipykernel)",
   "language": "python",
   "name": "python3"
  },
  "language_info": {
   "codemirror_mode": {
    "name": "ipython",
    "version": 3
   },
   "file_extension": ".py",
   "mimetype": "text/x-python",
   "name": "python",
   "nbconvert_exporter": "python",
   "pygments_lexer": "ipython3",
   "version": "3.9.7"
  }
 },
 "nbformat": 4,
 "nbformat_minor": 5
}
