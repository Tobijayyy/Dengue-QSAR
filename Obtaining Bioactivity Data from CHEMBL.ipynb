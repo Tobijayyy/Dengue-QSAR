{
 "cells": [
  {
   "cell_type": "markdown",
   "id": "6262573b-0b95-432e-8f0c-2b28da136832",
   "metadata": {},
   "source": [
    "## Obtaining Bioactivity Data from CHEMBL"
   ]
  },
  {
   "cell_type": "code",
   "execution_count": 1,
   "id": "cff2a578-ffa6-403c-9285-806f87964afb",
   "metadata": {},
   "outputs": [],
   "source": [
    "import pandas as pd\n",
    "import numpy as np"
   ]
  },
  {
   "cell_type": "code",
   "execution_count": 2,
   "id": "d7744292-543f-416c-be39-24b4bb8f7304",
   "metadata": {},
   "outputs": [],
   "source": [
    "from chembl_webresource_client.new_client import new_client"
   ]
  },
  {
   "cell_type": "code",
   "execution_count": null,
   "id": "f3f2b7fc-e461-40a6-814d-36195ea11603",
   "metadata": {},
   "outputs": [],
   "source": [
    "targets = new_client.target.search('Dengue virus')"
   ]
  },
  {
   "cell_type": "code",
   "execution_count": null,
   "id": "2b5d0066-6182-4ecd-be20-588e0f6ef257",
   "metadata": {},
   "outputs": [],
   "source": [
    "targets_df = pd.DataFrame(targets).head(20)"
   ]
  },
  {
   "cell_type": "code",
   "execution_count": null,
   "id": "d51116dc-953a-4ee2-9251-fb0fce3443f5",
   "metadata": {},
   "outputs": [],
   "source": [
    "targets_df.to_csv('top20denguetargets.csv')"
   ]
  },
  {
   "cell_type": "code",
   "execution_count": 6,
   "id": "0382a33a-5127-4d30-8255-68c92867cf9e",
   "metadata": {},
   "outputs": [],
   "source": [
    "target_id = targets_df.target_chembl_id[5]\n",
    "#targets_df.loc[5, 'target_chembl_id']"
   ]
  },
  {
   "cell_type": "code",
   "execution_count": 7,
   "id": "34a972f7-a8b8-4a07-850d-36226505f432",
   "metadata": {},
   "outputs": [],
   "source": [
    "activity = new_client.activity.filter(target_chembl_id=target_id).filter(standard_type='IC50')"
   ]
  },
  {
   "cell_type": "code",
   "execution_count": 8,
   "id": "d58a95af-a6fa-455d-ac12-eb99111dc490",
   "metadata": {},
   "outputs": [],
   "source": [
    "activity_df = pd.DataFrame(activity)"
   ]
  },
  {
   "cell_type": "code",
   "execution_count": 9,
   "id": "d354f643-506d-4f07-b497-80b2c6e518ca",
   "metadata": {
    "scrolled": true
   },
   "outputs": [
    {
     "data": {
      "text/plain": [
       "Index(['action_type', 'activity_comment', 'activity_id', 'activity_properties',\n",
       "       'assay_chembl_id', 'assay_description', 'assay_type',\n",
       "       'assay_variant_accession', 'assay_variant_mutation', 'bao_endpoint',\n",
       "       'bao_format', 'bao_label', 'canonical_smiles', 'data_validity_comment',\n",
       "       'data_validity_description', 'document_chembl_id', 'document_journal',\n",
       "       'document_year', 'ligand_efficiency', 'molecule_chembl_id',\n",
       "       'molecule_pref_name', 'parent_molecule_chembl_id', 'pchembl_value',\n",
       "       'potential_duplicate', 'qudt_units', 'record_id', 'relation', 'src_id',\n",
       "       'standard_flag', 'standard_relation', 'standard_text_value',\n",
       "       'standard_type', 'standard_units', 'standard_upper_value',\n",
       "       'standard_value', 'target_chembl_id', 'target_organism',\n",
       "       'target_pref_name', 'target_tax_id', 'text_value', 'toid', 'type',\n",
       "       'units', 'uo_units', 'upper_value', 'value'],\n",
       "      dtype='object')"
      ]
     },
     "execution_count": 9,
     "metadata": {},
     "output_type": "execute_result"
    }
   ],
   "source": [
    "activity_df.columns"
   ]
  },
  {
   "cell_type": "code",
   "execution_count": 10,
   "id": "f59f7b2d-8c51-45a5-9085-4fa06fa9c9ad",
   "metadata": {},
   "outputs": [],
   "source": [
    "activity_df = activity_df[['molecule_chembl_id', 'canonical_smiles', 'standard_value']]"
   ]
  },
  {
   "cell_type": "code",
   "execution_count": 11,
   "id": "5e83fb1c-8e29-4c17-a540-eb3271950d52",
   "metadata": {},
   "outputs": [
    {
     "data": {
      "text/plain": [
       "molecule_chembl_id     0\n",
       "canonical_smiles       0\n",
       "standard_value        47\n",
       "dtype: int64"
      ]
     },
     "execution_count": 11,
     "metadata": {},
     "output_type": "execute_result"
    }
   ],
   "source": [
    "activity_df.isna().sum()"
   ]
  },
  {
   "cell_type": "code",
   "execution_count": 12,
   "id": "610e9ae2-e0bb-4e53-a216-cf663a106e1f",
   "metadata": {},
   "outputs": [
    {
     "data": {
      "text/plain": [
       "molecule_chembl_id    object\n",
       "canonical_smiles      object\n",
       "standard_value        object\n",
       "dtype: object"
      ]
     },
     "execution_count": 12,
     "metadata": {},
     "output_type": "execute_result"
    }
   ],
   "source": [
    "activity_df.dtypes"
   ]
  },
  {
   "cell_type": "code",
   "execution_count": 13,
   "id": "797a9a43-2bc9-4c9c-be77-eddb895f3e20",
   "metadata": {
    "scrolled": true
   },
   "outputs": [],
   "source": [
    "activity_df.dropna(inplace=True)"
   ]
  },
  {
   "cell_type": "code",
   "execution_count": 14,
   "id": "4f42218b-6607-4c10-a195-6681bb9149eb",
   "metadata": {},
   "outputs": [],
   "source": [
    "activity_df.standard_value = activity_df.standard_value.astype('float')"
   ]
  },
  {
   "cell_type": "code",
   "execution_count": 16,
   "id": "8ab6a6c6",
   "metadata": {},
   "outputs": [
    {
     "data": {
      "text/plain": [
       "molecule_chembl_id     object\n",
       "canonical_smiles       object\n",
       "standard_value        float64\n",
       "dtype: object"
      ]
     },
     "execution_count": 16,
     "metadata": {},
     "output_type": "execute_result"
    }
   ],
   "source": [
    "activity_df.dtypes"
   ]
  },
  {
   "cell_type": "code",
   "execution_count": 23,
   "id": "48c6e0b7-4941-4ce9-884e-9f4efbaabc6b",
   "metadata": {},
   "outputs": [],
   "source": [
    "import matplotlib.pyplot as plt"
   ]
  },
  {
   "cell_type": "code",
   "execution_count": 29,
   "id": "307af950-53c7-4f1c-92f8-63c20a3fc610",
   "metadata": {},
   "outputs": [
    {
     "data": {
      "text/plain": [
       "<Axes: ylabel='Frequency'>"
      ]
     },
     "execution_count": 29,
     "metadata": {},
     "output_type": "execute_result"
    },
    {
     "data": {
      "image/png": "[encoded data removed]",
      "text/plain": [
       "<Figure size 640x480 with 1 Axes>"
      ]
     },
     "metadata": {},
     "output_type": "display_data"
    }
   ],
   "source": [
    "activity_df.plot(kind='hist', edgecolor='black')"
   ]
  },
  {
   "cell_type": "code",
   "execution_count": 25,
   "id": "40b231ce-4c8f-48e4-87c4-7ba71a2573cb",
   "metadata": {
    "scrolled": true
   },
   "outputs": [
    {
     "data": {
      "text/plain": [
       "{'whiskers': [<matplotlib.lines.Line2D at 0x21c23837e20>,\n",
       "  <matplotlib.lines.Line2D at 0x21c23885100>],\n",
       " 'caps': [<matplotlib.lines.Line2D at 0x21c2382aa60>,\n",
       "  <matplotlib.lines.Line2D at 0x21c23885520>],\n",
       " 'boxes': [<matplotlib.lines.Line2D at 0x21c23837be0>],\n",
       " 'medians': [<matplotlib.lines.Line2D at 0x21c238857c0>],\n",
       " 'fliers': [<matplotlib.lines.Line2D at 0x21c23885a60>],\n",
       " 'means': []}"
      ]
     },
     "execution_count": 25,
     "metadata": {},
     "output_type": "execute_result"
    },
    {
     "data": {
      "image/png": "[encoded data removed]",
      "text/plain": [
       "<Figure size 640x480 with 1 Axes>"
      ]
     },
     "metadata": {},
     "output_type": "display_data"
    }
   ],
   "source": [
    "plt.boxplot(activity_df.standard_value)"
   ]
  },
  {
   "cell_type": "code",
   "execution_count": 19,
   "id": "ef4b2621-a604-4689-b83e-feaac48cfc09",
   "metadata": {
    "scrolled": true
   },
   "outputs": [
    {
     "data": {
      "text/html": [
       "<div>\n",
       "<style scoped>\n",
       "    .dataframe tbody tr th:only-of-type {\n",
       "        vertical-align: middle;\n",
       "    }\n",
       "\n",
       "    .dataframe tbody tr th {\n",
       "        vertical-align: top;\n",
       "    }\n",
       "\n",
       "    .dataframe thead th {\n",
       "        text-align: right;\n",
       "    }\n",
       "</style>\n",
       "<table border=\"1\" class=\"dataframe\">\n",
       "  <thead>\n",
       "    <tr style=\"text-align: right;\">\n",
       "      <th></th>\n",
       "      <th>standard_value</th>\n",
       "    </tr>\n",
       "  </thead>\n",
       "  <tbody>\n",
       "    <tr>\n",
       "      <th>count</th>\n",
       "      <td>1237.000000</td>\n",
       "    </tr>\n",
       "    <tr>\n",
       "      <th>mean</th>\n",
       "      <td>46433.283331</td>\n",
       "    </tr>\n",
       "    <tr>\n",
       "      <th>std</th>\n",
       "      <td>34762.712868</td>\n",
       "    </tr>\n",
       "    <tr>\n",
       "      <th>min</th>\n",
       "      <td>0.480000</td>\n",
       "    </tr>\n",
       "    <tr>\n",
       "      <th>25%</th>\n",
       "      <td>19410.000000</td>\n",
       "    </tr>\n",
       "    <tr>\n",
       "      <th>50%</th>\n",
       "      <td>39880.000000</td>\n",
       "    </tr>\n",
       "    <tr>\n",
       "      <th>75%</th>\n",
       "      <td>68100.000000</td>\n",
       "    </tr>\n",
       "    <tr>\n",
       "      <th>max</th>\n",
       "      <td>432000.000000</td>\n",
       "    </tr>\n",
       "  </tbody>\n",
       "</table>\n",
       "</div>"
      ],
      "text/plain": [
       "       standard_value\n",
       "count     1237.000000\n",
       "mean     46433.283331\n",
       "std      34762.712868\n",
       "min          0.480000\n",
       "25%      19410.000000\n",
       "50%      39880.000000\n",
       "75%      68100.000000\n",
       "max     432000.000000"
      ]
     },
     "execution_count": 19,
     "metadata": {},
     "output_type": "execute_result"
    }
   ],
   "source": [
    "activity_df.describe()"
   ]
  },
  {
   "cell_type": "code",
   "execution_count": 34,
   "id": "cdc3501f-6a6f-4102-a278-f07bf508957d",
   "metadata": {},
   "outputs": [],
   "source": [
    "bio_activity = []\n",
    "for i in activity_df.standard_value:\n",
    "    if float(i) <= 1000:\n",
    "        bio_activity.append('active')\n",
    "    elif float(i) >= 10000:\n",
    "        bio_activity.append('inactive')\n",
    "    else:\n",
    "        bio_activity.append('intermediate')"
   ]
  },
  {
   "cell_type": "code",
   "execution_count": 35,
   "id": "85650059-0f4d-4a94-9635-d4b065313852",
   "metadata": {},
   "outputs": [],
   "source": [
    "activity_df['bio_activity'] = bio_activity"
   ]
  },
  {
   "cell_type": "code",
   "execution_count": 36,
   "id": "9a37a72b-216d-4f4e-bca3-664eaff74323",
   "metadata": {},
   "outputs": [
    {
     "data": {
      "text/plain": [
       "bio_activity\n",
       "inactive        1042\n",
       "intermediate     158\n",
       "active            37\n",
       "Name: count, dtype: int64"
      ]
     },
     "execution_count": 36,
     "metadata": {},
     "output_type": "execute_result"
    }
   ],
   "source": [
    "activity_df.bio_activity.value_counts()"
   ]
  },
  {
   "cell_type": "code",
   "execution_count": 39,
   "id": "b3a0f27d-7f44-4631-aa40-3ec045cd5311",
   "metadata": {},
   "outputs": [],
   "source": [
    "activity_df.to_csv('preprocessed_dengue_bioactivity_df.csv', index=False)"
   ]
  },
  {
   "cell_type": "code",
   "execution_count": null,
   "id": "090670d7-c149-4886-a824-b3af5884b283",
   "metadata": {},
   "outputs": [],
   "source": []
  },
  {
   "cell_type": "code",
   "execution_count": null,
   "id": "dbd32f1a-ee23-4000-afcd-6b44fce90048",
   "metadata": {},
   "outputs": [],
   "source": []
  }
 ],
 "metadata": {
  "kernelspec": {
   "display_name": "Python 3 (ipykernel)",
   "language": "python",
   "name": "python3"
  },
  "language_info": {
   "codemirror_mode": {
    "name": "ipython",
    "version": 3
   },
   "file_extension": ".py",
   "mimetype": "text/x-python",
   "name": "python",
   "nbconvert_exporter": "python",
   "pygments_lexer": "ipython3",
   "version": "3.9.7"
  }
 },
 "nbformat": 4,
 "nbformat_minor": 5
}
